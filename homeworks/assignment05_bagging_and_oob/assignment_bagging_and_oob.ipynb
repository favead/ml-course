{
 "cells": [
  {
   "cell_type": "markdown",
   "id": "119c9460",
   "metadata": {},
   "source": [
    "## Home assignment 05: Bagging and OOB score\n",
    "\n",
    "Please, fill the lines in the code below.\n",
    "This is a simplified version of `BaggingRegressor` from `sklearn`. Please, notice, that `sklearn` API is **not preserved**.\n",
    "\n",
    "Your algorithm should be able to train different instances of the same model class on bootstrapped datasets and to provide [OOB score](https://en.wikipedia.org/wiki/Out-of-bag_error) for the training set.\n",
    "\n",
    "The model should be passed as model class with no explicit parameters and no parentheses.\n",
    "\n",
    "Example:\n",
    "```\n",
    "import numpy as np\n",
    "from sklearn.linear_model import LinearRegression\n",
    "\n",
    "bagging_regressor = SimplifiedBaggingRegressor(num_bags=10, oob=True)\n",
    "bagging_regressor.fit(LinearRegression, X, y)\n",
    "\n",
    "```"
   ]
  },
  {
   "cell_type": "code",
   "execution_count": 1,
   "id": "31ecde34",
   "metadata": {},
   "outputs": [],
   "source": [
    "import numpy as np"
   ]
  },
  {
   "cell_type": "code",
   "execution_count": 83,
   "id": "06110580",
   "metadata": {},
   "outputs": [],
   "source": [
    "class SimplifiedBaggingRegressor:\n",
    "    def __init__(self, num_bags, oob=False):\n",
    "        self.num_bags = num_bags\n",
    "        self.oob = oob\n",
    "\n",
    "    def _generate_splits(self, data: np.ndarray) -> None:\n",
    "        \"\"\"\n",
    "        Generate indices for every bag and store in self.indices_list list\n",
    "        \"\"\"\n",
    "        self.indices_list = []\n",
    "        data_length = len(data)\n",
    "        for bag in range(self.num_bags):\n",
    "            self.indices_list.append(\n",
    "                np.random.randint(0, data_length, size=data_length)\n",
    "            )\n",
    "        return None\n",
    "\n",
    "    def fit(\n",
    "        self, model_constructor: callable, data: np.ndarray, target: np.ndarray\n",
    "    ) -> None:\n",
    "        \"\"\"\n",
    "        Fit model on every bag.\n",
    "        Model constructor with no parameters (and with no ()) is passed to this function.\n",
    "\n",
    "        example:\n",
    "\n",
    "        bagging_regressor = SimplifiedBaggingRegressor(num_bags=10, oob=True)\n",
    "        bagging_regressor.fit(LinearRegression, X, y)\n",
    "        \"\"\"\n",
    "        self.data = None\n",
    "        self.target = None\n",
    "        self._generate_splits(data)\n",
    "        assert (\n",
    "            len(set(list(map(len, self.indices_list)))) == 1\n",
    "        ), \"All bags should be of the same length!\"\n",
    "        assert list(map(len, self.indices_list))[0] == len(\n",
    "            data\n",
    "        ), \"All bags should contain `len(data)` number of elements!\"\n",
    "        self.models_list = []\n",
    "        for bag in range(self.num_bags):\n",
    "            model = model_constructor()\n",
    "            data_bag, target_bag = (\n",
    "                data[self.indices_list[bag]],\n",
    "                target[self.indices_list[bag]],\n",
    "            )\n",
    "            self.models_list.append(\n",
    "                model.fit(data_bag, target_bag)\n",
    "            )  # store fitted models here\n",
    "        if self.oob:\n",
    "            self.data = data\n",
    "            self.target = target\n",
    "\n",
    "        return None\n",
    "\n",
    "    def predict(self, data: np.ndarray) -> np.ndarray:\n",
    "        \"\"\"\n",
    "        Get average prediction for every object from passed dataset\n",
    "        \"\"\"\n",
    "        pred = np.mean([model.predict(data) for model in self.models_list], axis=0)\n",
    "        return pred\n",
    "\n",
    "    def _get_oob_predictions_from_every_model(self) -> None:\n",
    "        \"\"\"\n",
    "        Generates list of lists, where list i contains predictions for self.data[i] object\n",
    "        from all models, which have not seen this object during training phase\n",
    "        \"\"\"\n",
    "        list_of_predictions_lists = [[] for _ in range(len(self.data))]\n",
    "\n",
    "        for i in range(self.data.shape[0]):\n",
    "            for model, indices in zip(self.models_list, self.indices_list):\n",
    "                if i not in indices:\n",
    "                    list_of_predictions_lists[i].append(\n",
    "                        model.predict(self.data[i].reshape(1, -1))\n",
    "                    )\n",
    "\n",
    "        self.list_of_predictions_lists = np.array(\n",
    "            list_of_predictions_lists, dtype=object\n",
    "        )\n",
    "        return None\n",
    "\n",
    "    def _get_averaged_oob_predictions(self) -> None:\n",
    "        \"\"\"\n",
    "        Compute average prediction for every object from training set.\n",
    "        If object has been used in all bags on training phase, return None instead of prediction\n",
    "        \"\"\"\n",
    "        self._get_oob_predictions_from_every_model()\n",
    "        self.oob_predictions = []\n",
    "        for i in range(self.data.shape[0]):\n",
    "            if len(self.list_of_predictions_lists[i]):\n",
    "                self.oob_predictions.append(\n",
    "                    np.mean([self.list_of_predictions_lists[i]])\n",
    "                )\n",
    "            else:\n",
    "                self.oob_predictions.append(None)\n",
    "        return None\n",
    "\n",
    "    def OOB_score(self) -> float:\n",
    "        \"\"\"\n",
    "        Compute mean square error for all objects, which have at least one prediction\n",
    "        \"\"\"\n",
    "        self._get_averaged_oob_predictions()\n",
    "        oob_score = 0.0\n",
    "        for i in range(len(self.oob_predictions)):\n",
    "            if self.oob_predictions[i]:\n",
    "                oob_score += (self.oob_predictions[i] - self.target[i]) ** 2.0\n",
    "        return oob_score**0.5"
   ]
  },
  {
   "cell_type": "markdown",
   "id": "5cfa174f",
   "metadata": {},
   "source": [
    "### Local tests:"
   ]
  },
  {
   "cell_type": "code",
   "execution_count": 52,
   "id": "eaa2e710",
   "metadata": {},
   "outputs": [],
   "source": [
    "from sklearn.linear_model import LinearRegression\n",
    "# from tqdm.auto import tqdm"
   ]
  },
  {
   "cell_type": "markdown",
   "id": "b54221c2",
   "metadata": {},
   "source": [
    "#### Simple tests:"
   ]
  },
  {
   "cell_type": "code",
   "execution_count": 84,
   "id": "84c94a8b",
   "metadata": {},
   "outputs": [
    {
     "name": "stdout",
     "output_type": "stream",
     "text": [
      "Simple tests done!\n"
     ]
    }
   ],
   "source": [
    "for _ in range(100):\n",
    "    X = np.random.randn(2000, 10)\n",
    "    y = np.mean(X, axis=1)\n",
    "    bagging_regressor = SimplifiedBaggingRegressor(num_bags=10, oob=True)\n",
    "    bagging_regressor.fit(LinearRegression, X, y)\n",
    "    predictions = bagging_regressor.predict(X)\n",
    "    assert (\n",
    "        np.mean((predictions - y) ** 2) < 1e-6\n",
    "    ), \"Linear dependency should be fitted with almost zero error!\"\n",
    "    assert bagging_regressor.oob, \"OOB feature must be turned on\"\n",
    "    oob_score = bagging_regressor.OOB_score()\n",
    "    assert (\n",
    "        oob_score < 1e-6\n",
    "    ), \"OOB error for linear dependency should be also close to zero!\"\n",
    "    assert (\n",
    "        abs(\n",
    "            np.mean(list(map(len, bagging_regressor.list_of_predictions_lists)))\n",
    "            / bagging_regressor.num_bags\n",
    "            - 1 / np.exp(1)\n",
    "        )\n",
    "        < 0.1\n",
    "    ), \"Probability of missing a bag should be close to theoretical value!\"\n",
    "\n",
    "print(\"Simple tests done!\")"
   ]
  },
  {
   "cell_type": "markdown",
   "id": "4be4d037",
   "metadata": {},
   "source": [
    "#### Medium tests"
   ]
  },
  {
   "cell_type": "code",
   "execution_count": 85,
   "id": "0cfd3a21",
   "metadata": {},
   "outputs": [
    {
     "name": "stdout",
     "output_type": "stream",
     "text": [
      "Medium tests done!\n"
     ]
    }
   ],
   "source": [
    "for _ in range(10):\n",
    "    X = np.random.randn(200, 150)\n",
    "    y = np.random.randn(len(X))\n",
    "    bagging_regressor = SimplifiedBaggingRegressor(num_bags=20, oob=True)\n",
    "    bagging_regressor.fit(LinearRegression, X, y)\n",
    "    predictions = bagging_regressor.predict(X)\n",
    "    average_train_error = np.mean((predictions - y) ** 2)\n",
    "    assert bagging_regressor.oob, \"OOB feature must be turned on\"\n",
    "    oob_score = bagging_regressor.OOB_score()\n",
    "    assert (\n",
    "        oob_score > average_train_error\n",
    "    ), \"OOB error must be higher than train error due to overfitting!\"\n",
    "    assert (\n",
    "        abs(\n",
    "            np.mean(list(map(len, bagging_regressor.list_of_predictions_lists)))\n",
    "            / bagging_regressor.num_bags\n",
    "            - 1 / np.exp(1)\n",
    "        )\n",
    "        < 0.1\n",
    "    ), \"Probability of missing a bag should be close to theoretical value!\"\n",
    "\n",
    "print(\"Medium tests done!\")"
   ]
  },
  {
   "cell_type": "markdown",
   "id": "725818ff",
   "metadata": {},
   "source": [
    "#### Complex tests:"
   ]
  },
  {
   "cell_type": "code",
   "execution_count": 86,
   "id": "8f929d6b",
   "metadata": {},
   "outputs": [
    {
     "name": "stdout",
     "output_type": "stream",
     "text": [
      "Complex tests done!\n"
     ]
    }
   ],
   "source": [
    "for _ in range(10):\n",
    "    X = np.random.randn(2000, 15)\n",
    "    y = np.random.randn(len(X))\n",
    "    bagging_regressor = SimplifiedBaggingRegressor(num_bags=100, oob=True)\n",
    "    bagging_regressor.fit(LinearRegression, X, y)\n",
    "    predictions = bagging_regressor.predict(X)\n",
    "    oob_score = bagging_regressor.OOB_score()\n",
    "    assert (\n",
    "        abs(\n",
    "            np.mean(list(map(len, bagging_regressor.list_of_predictions_lists)))\n",
    "            / bagging_regressor.num_bags\n",
    "            - 1 / np.exp(1)\n",
    "        )\n",
    "        < 1e-2\n",
    "    ), \"Probability of missing a bag should be close to theoretical value!\"\n",
    "\n",
    "print(\"Complex tests done!\")"
   ]
  },
  {
   "cell_type": "code",
   "execution_count": 87,
   "id": "af170ef8",
   "metadata": {},
   "outputs": [
    {
     "data": {
      "text/plain": [
       "-0.0010244411714423474"
      ]
     },
     "execution_count": 87,
     "metadata": {},
     "output_type": "execute_result"
    }
   ],
   "source": [
    "np.mean(\n",
    "    list(map(len, bagging_regressor.list_of_predictions_lists))\n",
    ") / bagging_regressor.num_bags - 1 / np.exp(1)"
   ]
  },
  {
   "cell_type": "markdown",
   "id": "9535cb6d",
   "metadata": {},
   "source": [
    "Great job! Please, save `SimplifiedBaggingRegressor` to  `bagging.py` and submit your solution to the grading system!"
   ]
  }
 ],
 "metadata": {
  "kernelspec": {
   "display_name": ".venv",
   "language": "python",
   "name": "python3"
  },
  "language_info": {
   "codemirror_mode": {
    "name": "ipython",
    "version": 3
   },
   "file_extension": ".py",
   "mimetype": "text/x-python",
   "name": "python",
   "nbconvert_exporter": "python",
   "pygments_lexer": "ipython3",
   "version": "3.10.12"
  }
 },
 "nbformat": 4,
 "nbformat_minor": 5
}
